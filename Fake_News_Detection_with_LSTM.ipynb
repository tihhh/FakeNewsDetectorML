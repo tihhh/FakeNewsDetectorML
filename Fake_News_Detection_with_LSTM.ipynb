{
  "nbformat": 4,
  "nbformat_minor": 0,
  "metadata": {
    "colab": {
      "provenance": []
    },
    "kernelspec": {
      "name": "python3",
      "display_name": "Python 3"
    },
    "language_info": {
      "name": "python"
    }
  },
  "cells": [
    {
      "cell_type": "markdown",
      "source": [
        "# Fake News Detection Using LSTM\n",
        "\n",
        "This colab notebook serves as an implementation of using machine learning as a way to detect fake news\n",
        "\n",
        "\n",
        "\n"
      ],
      "metadata": {
        "id": "m2dc19KkeGxw"
      }
    },
    {
      "cell_type": "markdown",
      "source": [
        "**1. Loading Google Drive to get the data**"
      ],
      "metadata": {
        "id": "LTDC4eNzesTt"
      }
    },
    {
      "cell_type": "code",
      "source": [
        "from google.colab import drive\n",
        "drive.mount('/content/drive')\n"
      ],
      "metadata": {
        "id": "sdvhIscGVm6-",
        "colab": {
          "base_uri": "https://localhost:8080/"
        },
        "outputId": "cb114d31-750b-40d0-98b0-d69ee27ba180"
      },
      "execution_count": null,
      "outputs": [
        {
          "output_type": "stream",
          "name": "stdout",
          "text": [
            "Drive already mounted at /content/drive; to attempt to forcibly remount, call drive.mount(\"/content/drive\", force_remount=True).\n"
          ]
        }
      ]
    },
    {
      "cell_type": "markdown",
      "source": [
        "**2. Data Preparation and Merging**"
      ],
      "metadata": {
        "id": "gXzjNOeSezug"
      }
    },
    {
      "cell_type": "code",
      "execution_count": null,
      "metadata": {
        "colab": {
          "base_uri": "https://localhost:8080/"
        },
        "id": "i5c89jyUUQ_J",
        "outputId": "071fd298-9ed2-4e9e-b90f-25fac950bccb"
      },
      "outputs": [
        {
          "output_type": "stream",
          "name": "stdout",
          "text": [
            "                                               title  \\\n",
            "0  FORBES LIST OF “The World’s Most Powerful Peop...   \n",
            "1  EU looks for 'big pot of money' to handle migr...   \n",
            "2  CNN TRIES TO Push FAKE Story About Size Of New...   \n",
            "3  After British PM May's speech fiasco, her part...   \n",
            "4  SHOCKER! BRATTY KID WHO SAID “Screw Our Presid...   \n",
            "\n",
            "                                                text    subject  \\\n",
            "0  Hey Michelle Guess what? For the first time in...   politics   \n",
            "1  BRUSSELS (Reuters) - European Union leaders wi...  worldnews   \n",
            "2  Here s CNN s tweet with pictures comparing Oba...   politics   \n",
            "3  LONDON (Reuters) - It was meant to be the spee...  worldnews   \n",
            "4  Immediately after this happened, Charles Kraut...  left-news   \n",
            "\n",
            "                date  label  \n",
            "0       Dec 17, 2016      1  \n",
            "1  October 18, 2017       0  \n",
            "2       Apr 19, 2017      1  \n",
            "3   October 5, 2017       0  \n",
            "4       Jan 20, 2017      1  \n",
            "                                                 title  \\\n",
            "995  Brazil election campaign fund not big enough, ...   \n",
            "996  Trump backs off ISIS comments; party head appe...   \n",
            "997  CNN’S DON LEMON LOSES IT: Screams No! No! No! ...   \n",
            "998   Suspects in Malta blogger's murder sent to trial   \n",
            "999   Bill Maher Did NOT Disappoint In His Reaction...   \n",
            "\n",
            "                                                  text       subject  \\\n",
            "995  SAO PAULO (Reuters) - A political campaign fun...     worldnews   \n",
            "996  ALTOONA, Pa. (Reuters) - Republican Donald Tru...  politicsNews   \n",
            "997  CNN host Don Lemon continues to show his extre...     left-news   \n",
            "998  VALLETTA (Reuters) - Three men accused of kill...     worldnews   \n",
            "999  There s really no better person to roast Sarah...          News   \n",
            "\n",
            "                   date  label  \n",
            "995    October 7, 2017       0  \n",
            "996    August 12, 2016       0  \n",
            "997        Dec 29, 2017      1  \n",
            "998  December 21, 2017       0  \n",
            "999    January 23, 2016      1  \n"
          ]
        }
      ],
      "source": [
        "import pandas as pd\n",
        "\n",
        "# Load both sets\n",
        "fake_news = pd.read_csv('/content/drive/MyDrive/News _dataset/Fake.csv')\n",
        "real_news = pd.read_csv('/content/drive/MyDrive/News _dataset/True.csv')\n",
        "\n",
        "# 1 is label for fake news, while 0 is label for real news\n",
        "fake_news['label'] = 1\n",
        "real_news['label'] = 0\n",
        "\n",
        "# Combine the datasets\n",
        "data = pd.concat([fake_news, real_news], ignore_index=True)\n",
        "\n",
        "#Shuffle the data and randomly take 600 rows\n",
        "data = data.sample(n=1000).reset_index(drop=True)\n",
        "\n",
        "data = data.dropna(subset=['text'])\n",
        "\n",
        "# Check the combined dataset\n",
        "print(data.head())\n",
        "print(data.tail())"
      ]
    },
    {
      "cell_type": "markdown",
      "source": [
        "**3. Checking Labels**"
      ],
      "metadata": {
        "id": "pEhzpVTVe-FV"
      }
    },
    {
      "cell_type": "code",
      "source": [
        "label_counts = data['label'].value_counts()\n",
        "print(label_counts)"
      ],
      "metadata": {
        "colab": {
          "base_uri": "https://localhost:8080/"
        },
        "id": "ZfG38EyqyV5v",
        "outputId": "a1695d5e-040b-4eb9-bad9-8938acd619f7"
      },
      "execution_count": null,
      "outputs": [
        {
          "output_type": "stream",
          "name": "stdout",
          "text": [
            "label\n",
            "1    529\n",
            "0    471\n",
            "Name: count, dtype: int64\n"
          ]
        }
      ]
    },
    {
      "cell_type": "markdown",
      "source": [
        "**4. Cleaning Text + remove stop words**"
      ],
      "metadata": {
        "id": "gQ7UPYMKD0vN"
      }
    },
    {
      "cell_type": "code",
      "source": [
        "# Import necessary libraries for text cleaning\n",
        "import re\n",
        "import nltk\n",
        "from nltk.corpus import stopwords\n",
        "\n",
        "# Download stopwords\n",
        "nltk.download('stopwords')\n",
        "stop_words = set(stopwords.words('english'))\n",
        "\n",
        "# Define the cleaning function\n",
        "def clean_text(text):\n",
        "    text = text.lower()  # Lowercase text\n",
        "    text = re.sub(r'\\W+', ' ', text)  # Remove special characters\n",
        "    text = ' '.join([word for word in text.split() if word not in stop_words])  # Remove stop words\n",
        "    return text\n",
        "\n",
        "# Apply cleaning to text\n",
        "data['clean_text'] = data['text'].fillna('').apply(clean_text)\n",
        "\n"
      ],
      "metadata": {
        "colab": {
          "base_uri": "https://localhost:8080/"
        },
        "id": "DDmxPvShZBf9",
        "outputId": "15116cd5-080c-400e-be5e-fafc5e6ea029"
      },
      "execution_count": null,
      "outputs": [
        {
          "output_type": "stream",
          "name": "stderr",
          "text": [
            "[nltk_data] Downloading package stopwords to /root/nltk_data...\n",
            "[nltk_data]   Unzipping corpora/stopwords.zip.\n"
          ]
        }
      ]
    },
    {
      "cell_type": "markdown",
      "source": [
        "**5. Train Test Split and Tokenizing and Padding Data**"
      ],
      "metadata": {
        "id": "thT9LOhSfLPS"
      }
    },
    {
      "cell_type": "code",
      "source": [
        "from sklearn.model_selection import train_test_split\n",
        "# Split data into training and testing sets\n",
        "X = data['clean_text']\n",
        "y = data['label']\n",
        "X_train, X_test, y_train, y_test = train_test_split(X, y, test_size=0.2, random_state=42)\n",
        "\n",
        "# Import the tokenizer and pad_sequences functions from Keras\n",
        "from tensorflow.keras.preprocessing.text import Tokenizer\n",
        "from tensorflow.keras.preprocessing.sequence import pad_sequences\n",
        "\n",
        "# Tokenize the text data\n",
        "MAX_WORDS = 10000  # Maximum number of words in the vocabulary\n",
        "MAX_SEQ_LEN = 300  # Maximum length of input sequences\n",
        "tokenizer = Tokenizer(num_words=MAX_WORDS)\n",
        "tokenizer.fit_on_texts(X_train)\n",
        "\n",
        "# Convert text to sequences and pad them to ensure equal length\n",
        "X_train_seq = tokenizer.texts_to_sequences(X_train)\n",
        "X_test_seq = tokenizer.texts_to_sequences(X_test)\n",
        "X_train_pad = pad_sequences(X_train_seq, maxlen=MAX_SEQ_LEN)\n",
        "X_test_pad = pad_sequences(X_test_seq, maxlen=MAX_SEQ_LEN)"
      ],
      "metadata": {
        "id": "a4RmNRk40C8V"
      },
      "execution_count": null,
      "outputs": []
    },
    {
      "cell_type": "markdown",
      "source": [
        "**6. Training Word2Vec and Populating the Embedding Matrix**"
      ],
      "metadata": {
        "id": "9YJNC4xRfRso"
      }
    },
    {
      "cell_type": "code",
      "source": [
        "# Import gensim for Word2Vec model training\n",
        "from gensim.models import Word2Vec\n",
        "\n",
        "# Tokenize sentences into lists of words\n",
        "sentences = [text.split() for text in X_train]\n",
        "\n",
        "# Train Word2Vec model\n",
        "word2vec_model = Word2Vec(sentences, vector_size=100, window=5, min_count=1, workers=4)\n",
        "word2vec_model.train(sentences, total_examples=len(sentences), epochs=10)\n",
        "\n",
        "import numpy as np\n",
        "\n",
        "# Create an embedding matrix for the words in the tokenizer's vocabulary\n",
        "EMBEDDING_DIM = 100  # Must match the Word2Vec vector size\n",
        "word_index = tokenizer.word_index\n",
        "embedding_matrix = np.zeros((len(word_index) + 1, EMBEDDING_DIM))\n",
        "\n",
        "for word, i in word_index.items():\n",
        "    if i < MAX_WORDS:\n",
        "        try:\n",
        "            embedding_vector = word2vec_model.wv[word]\n",
        "            embedding_matrix[i] = embedding_vector\n",
        "        except KeyError:\n",
        "            embedding_matrix[i] = np.zeros(EMBEDDING_DIM)"
      ],
      "metadata": {
        "colab": {
          "base_uri": "https://localhost:8080/"
        },
        "id": "QkSyxndt0Io5",
        "outputId": "3ebe0b35-965c-4f6a-c54f-cb0827a2422a"
      },
      "execution_count": null,
      "outputs": [
        {
          "output_type": "stream",
          "name": "stderr",
          "text": [
            "WARNING:gensim.models.word2vec:Effective 'alpha' higher than previous training cycles\n"
          ]
        }
      ]
    },
    {
      "cell_type": "markdown",
      "source": [
        "**7. Creating a Sequential model architecture**"
      ],
      "metadata": {
        "id": "kDrh4l2sf6c1"
      }
    },
    {
      "cell_type": "code",
      "source": [
        "# Import necessary layers from Keras\n",
        "from tensorflow.keras.models import Sequential\n",
        "from tensorflow.keras.layers import Embedding, LSTM, Dense, Dropout, Bidirectional\n",
        "\n",
        "# Build the LSTM model\n",
        "model = Sequential()\n",
        "\n",
        "model.add(Embedding(input_dim=embedding_matrix.shape[0],  # Match input_dim to embedding matrix size\n",
        "                    output_dim=EMBEDDING_DIM,\n",
        "                    input_length=MAX_SEQ_LEN,\n",
        "                    weights=[embedding_matrix],\n",
        "                    trainable=False))  # Set to False to not modify the Word2Vec weights\n",
        "\n",
        "# 2. Bidirectional LSTM layer\n",
        "model.add(Bidirectional(LSTM(128, return_sequences=False)))\n",
        "\n",
        "# 3. Dropout layer to prevent overfitting\n",
        "model.add(Dropout(0.5))\n",
        "\n",
        "# 4. Dense output layer with sigmoid activation for binary classification\n",
        "model.add(Dense(1, activation='sigmoid'))\n",
        "\n",
        "# Compile the model\n",
        "model.compile(optimizer='adam', loss='binary_crossentropy', metrics=['accuracy'])\n",
        "\n",
        "# Model summary\n",
        "model.summary()"
      ],
      "metadata": {
        "colab": {
          "base_uri": "https://localhost:8080/",
          "height": 307
        },
        "id": "GIQn1MHd0VBz",
        "outputId": "5e97d036-23d2-43ad-f666-b9801ec12e50"
      },
      "execution_count": null,
      "outputs": [
        {
          "output_type": "stream",
          "name": "stderr",
          "text": [
            "/usr/local/lib/python3.10/dist-packages/keras/src/layers/core/embedding.py:90: UserWarning: Argument `input_length` is deprecated. Just remove it.\n",
            "  warnings.warn(\n"
          ]
        },
        {
          "output_type": "display_data",
          "data": {
            "text/plain": [
              "\u001b[1mModel: \"sequential\"\u001b[0m\n"
            ],
            "text/html": [
              "<pre style=\"white-space:pre;overflow-x:auto;line-height:normal;font-family:Menlo,'DejaVu Sans Mono',consolas,'Courier New',monospace\"><span style=\"font-weight: bold\">Model: \"sequential\"</span>\n",
              "</pre>\n"
            ]
          },
          "metadata": {}
        },
        {
          "output_type": "display_data",
          "data": {
            "text/plain": [
              "┏━━━━━━━━━━━━━━━━━━━━━━━━━━━━━━━━━━━━━━┳━━━━━━━━━━━━━━━━━━━━━━━━━━━━━┳━━━━━━━━━━━━━━━━━┓\n",
              "┃\u001b[1m \u001b[0m\u001b[1mLayer (type)                        \u001b[0m\u001b[1m \u001b[0m┃\u001b[1m \u001b[0m\u001b[1mOutput Shape               \u001b[0m\u001b[1m \u001b[0m┃\u001b[1m \u001b[0m\u001b[1m        Param #\u001b[0m\u001b[1m \u001b[0m┃\n",
              "┡━━━━━━━━━━━━━━━━━━━━━━━━━━━━━━━━━━━━━━╇━━━━━━━━━━━━━━━━━━━━━━━━━━━━━╇━━━━━━━━━━━━━━━━━┩\n",
              "│ embedding (\u001b[38;5;33mEmbedding\u001b[0m)                │ ?                           │       \u001b[38;5;34m2,011,600\u001b[0m │\n",
              "├──────────────────────────────────────┼─────────────────────────────┼─────────────────┤\n",
              "│ bidirectional (\u001b[38;5;33mBidirectional\u001b[0m)        │ ?                           │     \u001b[38;5;34m0\u001b[0m (unbuilt) │\n",
              "├──────────────────────────────────────┼─────────────────────────────┼─────────────────┤\n",
              "│ dropout (\u001b[38;5;33mDropout\u001b[0m)                    │ ?                           │     \u001b[38;5;34m0\u001b[0m (unbuilt) │\n",
              "├──────────────────────────────────────┼─────────────────────────────┼─────────────────┤\n",
              "│ dense (\u001b[38;5;33mDense\u001b[0m)                        │ ?                           │     \u001b[38;5;34m0\u001b[0m (unbuilt) │\n",
              "└──────────────────────────────────────┴─────────────────────────────┴─────────────────┘\n"
            ],
            "text/html": [
              "<pre style=\"white-space:pre;overflow-x:auto;line-height:normal;font-family:Menlo,'DejaVu Sans Mono',consolas,'Courier New',monospace\">┏━━━━━━━━━━━━━━━━━━━━━━━━━━━━━━━━━━━━━━┳━━━━━━━━━━━━━━━━━━━━━━━━━━━━━┳━━━━━━━━━━━━━━━━━┓\n",
              "┃<span style=\"font-weight: bold\"> Layer (type)                         </span>┃<span style=\"font-weight: bold\"> Output Shape                </span>┃<span style=\"font-weight: bold\">         Param # </span>┃\n",
              "┡━━━━━━━━━━━━━━━━━━━━━━━━━━━━━━━━━━━━━━╇━━━━━━━━━━━━━━━━━━━━━━━━━━━━━╇━━━━━━━━━━━━━━━━━┩\n",
              "│ embedding (<span style=\"color: #0087ff; text-decoration-color: #0087ff\">Embedding</span>)                │ ?                           │       <span style=\"color: #00af00; text-decoration-color: #00af00\">2,011,600</span> │\n",
              "├──────────────────────────────────────┼─────────────────────────────┼─────────────────┤\n",
              "│ bidirectional (<span style=\"color: #0087ff; text-decoration-color: #0087ff\">Bidirectional</span>)        │ ?                           │     <span style=\"color: #00af00; text-decoration-color: #00af00\">0</span> (unbuilt) │\n",
              "├──────────────────────────────────────┼─────────────────────────────┼─────────────────┤\n",
              "│ dropout (<span style=\"color: #0087ff; text-decoration-color: #0087ff\">Dropout</span>)                    │ ?                           │     <span style=\"color: #00af00; text-decoration-color: #00af00\">0</span> (unbuilt) │\n",
              "├──────────────────────────────────────┼─────────────────────────────┼─────────────────┤\n",
              "│ dense (<span style=\"color: #0087ff; text-decoration-color: #0087ff\">Dense</span>)                        │ ?                           │     <span style=\"color: #00af00; text-decoration-color: #00af00\">0</span> (unbuilt) │\n",
              "└──────────────────────────────────────┴─────────────────────────────┴─────────────────┘\n",
              "</pre>\n"
            ]
          },
          "metadata": {}
        },
        {
          "output_type": "display_data",
          "data": {
            "text/plain": [
              "\u001b[1m Total params: \u001b[0m\u001b[38;5;34m2,011,600\u001b[0m (7.67 MB)\n"
            ],
            "text/html": [
              "<pre style=\"white-space:pre;overflow-x:auto;line-height:normal;font-family:Menlo,'DejaVu Sans Mono',consolas,'Courier New',monospace\"><span style=\"font-weight: bold\"> Total params: </span><span style=\"color: #00af00; text-decoration-color: #00af00\">2,011,600</span> (7.67 MB)\n",
              "</pre>\n"
            ]
          },
          "metadata": {}
        },
        {
          "output_type": "display_data",
          "data": {
            "text/plain": [
              "\u001b[1m Trainable params: \u001b[0m\u001b[38;5;34m0\u001b[0m (0.00 B)\n"
            ],
            "text/html": [
              "<pre style=\"white-space:pre;overflow-x:auto;line-height:normal;font-family:Menlo,'DejaVu Sans Mono',consolas,'Courier New',monospace\"><span style=\"font-weight: bold\"> Trainable params: </span><span style=\"color: #00af00; text-decoration-color: #00af00\">0</span> (0.00 B)\n",
              "</pre>\n"
            ]
          },
          "metadata": {}
        },
        {
          "output_type": "display_data",
          "data": {
            "text/plain": [
              "\u001b[1m Non-trainable params: \u001b[0m\u001b[38;5;34m2,011,600\u001b[0m (7.67 MB)\n"
            ],
            "text/html": [
              "<pre style=\"white-space:pre;overflow-x:auto;line-height:normal;font-family:Menlo,'DejaVu Sans Mono',consolas,'Courier New',monospace\"><span style=\"font-weight: bold\"> Non-trainable params: </span><span style=\"color: #00af00; text-decoration-color: #00af00\">2,011,600</span> (7.67 MB)\n",
              "</pre>\n"
            ]
          },
          "metadata": {}
        }
      ]
    },
    {
      "cell_type": "markdown",
      "source": [
        "**8. Training the model**"
      ],
      "metadata": {
        "id": "PdXoT1-8gawi"
      }
    },
    {
      "cell_type": "code",
      "source": [
        "history = model.fit(X_train_pad, y_train, epochs=10, batch_size=64, validation_data=(X_test_pad, y_test))"
      ],
      "metadata": {
        "id": "yGkjk_FlSCPc"
      },
      "execution_count": null,
      "outputs": []
    },
    {
      "cell_type": "markdown",
      "source": [
        "**9. Model Evaluation & Testing**"
      ],
      "metadata": {
        "id": "8xt4a9xkgmj-"
      }
    },
    {
      "cell_type": "code",
      "source": [
        "# Evaluate the model\n",
        "test_loss, test_accuracy = model.evaluate(X_test_pad, y_test)\n",
        "print(f'Test Accuracy: {test_accuracy}')\n",
        "\n",
        "# Generate predictions\n",
        "y_pred = (model.predict(X_test_pad) > 0.5).astype(\"int32\")"
      ],
      "metadata": {
        "colab": {
          "base_uri": "https://localhost:8080/"
        },
        "id": "B2VS34Hb1nc7",
        "outputId": "f43d438e-3b38-48ae-8f22-1b353ee43a40"
      },
      "execution_count": null,
      "outputs": [
        {
          "output_type": "stream",
          "name": "stdout",
          "text": [
            "\u001b[1m7/7\u001b[0m \u001b[32m━━━━━━━━━━━━━━━━━━━━\u001b[0m\u001b[37m\u001b[0m \u001b[1m2s\u001b[0m 193ms/step - accuracy: 0.8941 - loss: 0.4090\n",
            "Test Accuracy: 0.8949999809265137\n",
            "\u001b[1m7/7\u001b[0m \u001b[32m━━━━━━━━━━━━━━━━━━━━\u001b[0m\u001b[37m\u001b[0m \u001b[1m3s\u001b[0m 401ms/step\n"
          ]
        }
      ]
    },
    {
      "cell_type": "code",
      "source": [
        "# Import necessary libraries for plotting\n",
        "import seaborn as sns\n",
        "from sklearn.metrics import confusion_matrix\n",
        "import matplotlib.pyplot as plt\n",
        "\n",
        "# Generate confusion matrix\n",
        "cm = confusion_matrix(y_test, y_pred)\n",
        "\n",
        "# Plot confusion matrix\n",
        "sns.heatmap(cm, annot=True, fmt='d', cmap='Blues', xticklabels=['Real', 'Fake'], yticklabels=['Real', 'Fake'])\n",
        "plt.xlabel('Predicted Label')\n",
        "plt.ylabel('True Label')\n",
        "plt.title('Confusion Matrix')\n",
        "plt.show()"
      ],
      "metadata": {
        "colab": {
          "base_uri": "https://localhost:8080/",
          "height": 472
        },
        "id": "CMF70Wnj1vBp",
        "outputId": "b4e48926-4816-4931-a1a9-3358b9303587"
      },
      "execution_count": null,
      "outputs": [
        {
          "output_type": "display_data",
          "data": {
            "text/plain": [
              "<Figure size 640x480 with 2 Axes>"
            ],
            "image/png": "[encoded data removed]"
          },
          "metadata": {}
        }
      ]
    },
    {
      "cell_type": "code",
      "source": [
        "from sklearn.metrics import classification_report\n",
        "\n",
        "# Display classification report\n",
        "print(classification_report(y_test, y_pred, target_names=['Real', 'Fake']))"
      ],
      "metadata": {
        "colab": {
          "base_uri": "https://localhost:8080/"
        },
        "id": "LOmthgz2498A",
        "outputId": "93487a79-e841-49ba-cad4-b5f7b2c51497"
      },
      "execution_count": null,
      "outputs": [
        {
          "output_type": "stream",
          "name": "stdout",
          "text": [
            "              precision    recall  f1-score   support\n",
            "\n",
            "        Real       0.85      0.95      0.90        99\n",
            "        Fake       0.94      0.84      0.89       101\n",
            "\n",
            "    accuracy                           0.90       200\n",
            "   macro avg       0.90      0.90      0.89       200\n",
            "weighted avg       0.90      0.90      0.89       200\n",
            "\n"
          ]
        }
      ]
    },
    {
      "cell_type": "code",
      "source": [
        "import matplotlib.pyplot as plt\n",
        "\n",
        "# Plot accuracy\n",
        "plt.plot(history.history['accuracy'], label='Train Accuracy')\n",
        "plt.plot(history.history['val_accuracy'], label='Validation Accuracy')\n",
        "plt.title('Model Accuracy')\n",
        "plt.xlabel('Epoch')\n",
        "plt.ylabel('Accuracy')\n",
        "plt.legend(loc='upper left')\n",
        "plt.show()\n",
        "\n",
        "# Plot loss\n",
        "plt.plot(history.history['loss'], label='Train Loss')\n",
        "plt.plot(history.history['val_loss'], label='Validation Loss')\n",
        "plt.title('Model Loss')\n",
        "plt.xlabel('Epoch')\n",
        "plt.ylabel('Loss')\n",
        "plt.legend(loc='upper left')\n",
        "plt.show()"
      ],
      "metadata": {
        "colab": {
          "base_uri": "https://localhost:8080/",
          "height": 927
        },
        "id": "oDsCx5ZL5Drd",
        "outputId": "ca40c06e-52da-4b7b-db10-be25c536009c"
      },
      "execution_count": null,
      "outputs": [
        {
          "output_type": "display_data",
          "data": {
            "text/plain": [
              "<Figure size 640x480 with 1 Axes>"
            ],
            "image/png": "[encoded data removed]"
          },
          "metadata": {}
        },
        {
          "output_type": "display_data",
          "data": {
            "text/plain": [
              "<Figure size 640x480 with 1 Axes>"
            ],
            "image/png": "[encoded data removed]"
          },
          "metadata": {}
        }
      ]
    },
    {
      "cell_type": "markdown",
      "source": [
        "**9. Saving the model**"
      ],
      "metadata": {
        "id": "6IBJd_AJgtU7"
      }
    },
    {
      "cell_type": "code",
      "source": [
        "model.save('fake_news_detection_model.keras')"
      ],
      "metadata": {
        "id": "XUBkcvWTH4uF"
      },
      "execution_count": null,
      "outputs": []
    },
    {
      "cell_type": "markdown",
      "source": [
        "**Same model as the one in the report**"
      ],
      "metadata": {
        "id": "MdaO-hPFgvvi"
      }
    },
    {
      "cell_type": "code",
      "source": [
        "from tensorflow.keras.models import load_model\n",
        "\n",
        "# Load the saved model\n",
        "model = load_model('/content/drive/MyDrive/fake_news_detection_model.keras')"
      ],
      "metadata": {
        "colab": {
          "base_uri": "https://localhost:8080/"
        },
        "id": "FXSfdhKdtgb4",
        "outputId": "e2719561-ef3a-43a9-ce9e-cfca0e88f55c"
      },
      "execution_count": null,
      "outputs": [
        {
          "output_type": "stream",
          "name": "stderr",
          "text": [
            "/usr/local/lib/python3.10/dist-packages/keras/src/saving/saving_lib.py:576: UserWarning: Skipping variable loading for optimizer 'rmsprop', because it has 10 variables whereas the saved optimizer has 18 variables. \n",
            "  saveable.load_own_variables(weights_store.get(inner_path))\n"
          ]
        }
      ]
    },
    {
      "cell_type": "markdown",
      "source": [
        "**Test it on something**"
      ],
      "metadata": {
        "id": "H7L2CHmEg405"
      }
    },
    {
      "cell_type": "code",
      "source": [
        "def prepare_text_for_prediction(text):\n",
        "    # Step 1: Clean the input text\n",
        "    cleaned_text = clean_text(text)\n",
        "\n",
        "    # Step 2: Tokenize the text (convert words to numbers)\n",
        "    text_sequence = tokenizer.texts_to_sequences([cleaned_text])\n",
        "\n",
        "    # Step 3: Pad the sequence to the same length used in training\n",
        "    text_padded = pad_sequences(text_sequence, maxlen=MAX_SEQ_LEN)\n",
        "\n",
        "    return text_padded"
      ],
      "metadata": {
        "id": "BQ1eMatduAEL"
      },
      "execution_count": null,
      "outputs": []
    },
    {
      "cell_type": "code",
      "source": [
        "def predict_fake_or_real(text):\n",
        "    # Prepare the text\n",
        "    text_padded = prepare_text_for_prediction(text)\n",
        "\n",
        "    # Use the model to make a prediction\n",
        "    prediction = model.predict(text_padded)\n",
        "\n",
        "    # Interpret the prediction: if the prediction is > 0.5, it's fake news\n",
        "    if prediction > 0.5:\n",
        "        return \"Fake News\"\n",
        "    else:\n",
        "        return \"Real News\"\n"
      ],
      "metadata": {
        "id": "bAX-BCs2uCOT"
      },
      "execution_count": null,
      "outputs": []
    },
    {
      "cell_type": "code",
      "source": [
        "news_text = \"Obama Administration has killed millions of americans with the way their healthcare system is designed.\"\n",
        "result = predict_fake_or_real(news_text)\n",
        "print(result)"
      ],
      "metadata": {
        "colab": {
          "base_uri": "https://localhost:8080/"
        },
        "id": "Wq94Jy66uF0_",
        "outputId": "c8bf09bd-b23e-487d-a105-2b3141cd8e89"
      },
      "execution_count": null,
      "outputs": [
        {
          "output_type": "stream",
          "name": "stdout",
          "text": [
            "\u001b[1m1/1\u001b[0m \u001b[32m━━━━━━━━━━━━━━━━━━━━\u001b[0m\u001b[37m\u001b[0m \u001b[1m0s\u001b[0m 243ms/step\n",
            "Fake News\n"
          ]
        }
      ]
    }
  ]
}